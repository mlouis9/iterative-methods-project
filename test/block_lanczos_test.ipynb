{
 "cells": [
  {
   "cell_type": "code",
   "execution_count": 1,
   "metadata": {},
   "outputs": [],
   "source": [
    "push!(LOAD_PATH, \"../src\")\n",
    "include(\"../src/lanczos.jl\")\n",
    "\n",
    "using .StochasticLanczos\n",
    "using SparseArrays\n",
    "using LinearAlgebra\n",
    "using FastExpm  # For computing matrix exponentials as a benchmark\n",
    "using Plots"
   ]
  },
  {
   "cell_type": "markdown",
   "metadata": {},
   "source": [
    "Import the test case. This includes the sparse matrix A, along with the matrix function f(A) = exp(A), and its exact computation"
   ]
  },
  {
   "cell_type": "code",
   "execution_count": 2,
   "metadata": {},
   "outputs": [],
   "source": [
    "include(\"test_case_1.jl\");"
   ]
  },
  {
   "cell_type": "markdown",
   "metadata": {},
   "source": [
    "Now test the implementation of the stochastic Lanczos quadrature by comparing the approximate calculation with the exact calculation of $\\Omega^\\top f(A)\\Omega$ where $\\Omega\\in \\mathbb{R}^{n\\times b}$ is a matrix whose columns $\\omega_i$ are random samples. Note that $b$ is the block size."
   ]
  },
  {
   "cell_type": "code",
   "execution_count": null,
   "metadata": {},
   "outputs": [],
   "source": [
    "b = 2\n",
    "Ω = randn(n,b)\n",
    "Ω = hcat([ ω/norm(ω) for ω in eachcol(Ω) ]...)"
   ]
  },
  {
   "cell_type": "code",
   "execution_count": null,
   "metadata": {},
   "outputs": [],
   "source": [
    "k = 10\n",
    "block_stochastic_lanczos_quadrature(f, matvecA, Ω, k, \"single\")"
   ]
  },
  {
   "cell_type": "code",
   "execution_count": null,
   "metadata": {},
   "outputs": [],
   "source": [
    "block_stochastic_lanczos_quadrature(f, matvecA, Ω, k÷b, \"block\")"
   ]
  },
  {
   "cell_type": "code",
   "execution_count": null,
   "metadata": {},
   "outputs": [],
   "source": [
    "exact = tr(Ω'*exactfA*Ω)"
   ]
  }
 ],
 "metadata": {
  "kernelspec": {
   "display_name": "Julia 1.10.0",
   "language": "julia",
   "name": "julia-1.10"
  },
  "language_info": {
   "file_extension": ".jl",
   "mimetype": "application/julia",
   "name": "julia",
   "version": "1.10.0"
  }
 },
 "nbformat": 4,
 "nbformat_minor": 2
}
