{
 "cells": [
  {
   "cell_type": "code",
   "execution_count": 60,
   "metadata": {},
   "outputs": [
    {
     "name": "stderr",
     "output_type": "stream",
     "text": [
      "WARNING: replacing module StochasticLanczos.\n",
      "WARNING: using StochasticLanczos.lanczos in module Main conflicts with an existing identifier.\n",
      "WARNING: using StochasticLanczos.block_lanczos in module Main conflicts with an existing identifier.\n",
      "WARNING: using StochasticLanczos.block_stochastic_lanczos_quadrature in module Main conflicts with an existing identifier.\n"
     ]
    }
   ],
   "source": [
    "push!(LOAD_PATH, \"../src\")\n",
    "include(\"../src/lanczos.jl\")\n",
    "\n",
    "using .StochasticLanczos\n",
    "using SparseArrays\n",
    "using LinearAlgebra\n",
    "using FastExpm  # For computing matrix exponentials as a benchmark\n",
    "using Plots"
   ]
  },
  {
   "cell_type": "markdown",
   "metadata": {},
   "source": [
    "Import the test case. This includes the sparse matrix A, along with the matrix function f(A) = exp(A), and its exact computation"
   ]
  },
  {
   "cell_type": "code",
   "execution_count": 61,
   "metadata": {},
   "outputs": [],
   "source": [
    "include(\"test_case_1.jl\");"
   ]
  },
  {
   "cell_type": "markdown",
   "metadata": {},
   "source": [
    "Now test the implementation of the stochastic Lanczos quadrature by comparing the approximate calculation with the exact calculation of $\\Omega^\\top f(A)\\Omega$ where $\\Omega\\in \\mathbb{R}^{n\\times b}$ is a matrix whose columns $\\omega_i$ are random samples. Note that $b$ is the block size."
   ]
  },
  {
   "cell_type": "code",
   "execution_count": 62,
   "metadata": {},
   "outputs": [
    {
     "data": {
      "text/plain": [
       "100×2 Matrix{Float64}:\n",
       "  1.09326    2.0417\n",
       "  0.290863   0.434524\n",
       " -0.244191   1.88453\n",
       " -1.81399    0.697823\n",
       "  1.98753   -0.724414\n",
       " -0.807579   1.03341\n",
       "  0.172832   0.589025\n",
       "  0.103637   1.19889\n",
       "  0.765282  -0.410368\n",
       " -1.05107    0.236017\n",
       "  ⋮         \n",
       " -0.140933  -0.654601\n",
       "  0.130983  -1.76893\n",
       "  2.61635    0.0618015\n",
       " -0.611363   0.182416\n",
       " -1.44196   -0.927515\n",
       "  0.627563  -1.04502\n",
       " -2.06517    0.0932792\n",
       "  1.4812     1.20149\n",
       "  0.111988  -0.11257"
      ]
     },
     "metadata": {},
     "output_type": "display_data"
    }
   ],
   "source": [
    "b = 2\n",
    "Ω = randn(n,b)\n",
    "# Ω = hcat([ ω/norm(ω) for ω in eachcol(Ω) ]...)"
   ]
  },
  {
   "cell_type": "code",
   "execution_count": 63,
   "metadata": {},
   "outputs": [
    {
     "data": {
      "text/plain": [
       "10×10 Matrix{Float64}:\n",
       " -0.061229   -0.22927   -0.399036   …   0.288788     0.205724  0.0124897\n",
       "  0.123083    0.351325   0.480344       0.458415     0.383893  0.0534855\n",
       " -0.2247     -0.412757  -0.314093       0.327248     0.421162  0.208167\n",
       "  0.313231    0.313035  -0.0170269      0.0018563    0.263729  0.652945\n",
       " -0.410984   -0.234268   0.200964      -0.185636    -0.21547   0.675375\n",
       "  0.543521    0.045759  -0.351451   …   0.00254912  -0.406633  0.25799\n",
       " -0.46717     0.268252   0.126602       0.270435    -0.392677  0.065898\n",
       "  0.32391    -0.437179   0.231949       0.455015    -0.342722  0.016206\n",
       " -0.192156    0.413362  -0.414101       0.461259    -0.253346  0.00396855\n",
       "  0.0899143  -0.254399   0.325398       0.268255    -0.12553   0.000861143"
      ]
     },
     "metadata": {},
     "output_type": "display_data"
    }
   ],
   "source": [
    "k = 10\n",
    "T_k = lanczos(matvecA, Ω[:, 1], k)\n",
    "eigen(T_k).vectors"
   ]
  },
  {
   "cell_type": "code",
   "execution_count": 64,
   "metadata": {},
   "outputs": [
    {
     "data": {
      "text/plain": [
       "10×10 Matrix{Float64}:\n",
       "  0.061229    0.22927   -0.399036   …   0.288788     0.205724  0.0124897\n",
       " -0.123083   -0.351325   0.480344       0.458415     0.383893  0.0534855\n",
       "  0.2247      0.412757  -0.314093       0.327248     0.421162  0.208167\n",
       " -0.313231   -0.313035  -0.0170269      0.0018563    0.263729  0.652945\n",
       "  0.410984    0.234268   0.200964      -0.185636    -0.21547   0.675375\n",
       " -0.543521   -0.045759  -0.351451   …   0.00254912  -0.406633  0.25799\n",
       "  0.46717    -0.268252   0.126602       0.270435    -0.392677  0.065898\n",
       " -0.32391     0.437179   0.231949       0.455015    -0.342722  0.016206\n",
       "  0.192156   -0.413362  -0.414101       0.461259    -0.253346  0.00396855\n",
       " -0.0899143   0.254399   0.325398       0.268255    -0.12553   0.000861143"
      ]
     },
     "metadata": {},
     "output_type": "display_data"
    }
   ],
   "source": [
    "test = zeros(n,1)\n",
    "test[:,1] = Ω[:,1]\n",
    "T_k, _ = block_lanczos(matvecA, test, 10)\n",
    "eigen(T_k).vectors"
   ]
  },
  {
   "cell_type": "code",
   "execution_count": 65,
   "metadata": {},
   "outputs": [
    {
     "data": {
      "text/plain": [
       "1.288254233898859e46"
      ]
     },
     "metadata": {},
     "output_type": "display_data"
    }
   ],
   "source": [
    "k = 5\n",
    "block_stochastic_lanczos_quadrature(f, matvecA, Ω, k, \"single\")"
   ]
  },
  {
   "cell_type": "code",
   "execution_count": 70,
   "metadata": {},
   "outputs": [
    {
     "data": {
      "text/plain": [
       "1.2883014031049468e46"
      ]
     },
     "metadata": {},
     "output_type": "display_data"
    }
   ],
   "source": [
    "block_stochastic_lanczos_quadrature(f, matvecA, Ω, k, \"block\")"
   ]
  },
  {
   "cell_type": "code",
   "execution_count": 67,
   "metadata": {},
   "outputs": [
    {
     "data": {
      "text/plain": [
       "1.2883161118950007e46 + 0.0im"
      ]
     },
     "metadata": {},
     "output_type": "display_data"
    }
   ],
   "source": [
    "exact = tr(Ω'*exactfA*Ω)"
   ]
  },
  {
   "cell_type": "code",
   "execution_count": 68,
   "metadata": {},
   "outputs": [],
   "source": []
  }
 ],
 "metadata": {
  "kernelspec": {
   "display_name": "Julia 1.10.0",
   "language": "julia",
   "name": "julia-1.10"
  },
  "language_info": {
   "file_extension": ".jl",
   "mimetype": "application/julia",
   "name": "julia",
   "version": "1.10.0"
  }
 },
 "nbformat": 4,
 "nbformat_minor": 2
}
