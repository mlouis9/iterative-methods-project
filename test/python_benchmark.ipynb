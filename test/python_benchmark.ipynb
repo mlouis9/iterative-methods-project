{
 "cells": [
  {
   "cell_type": "code",
   "execution_count": 5,
   "metadata": {},
   "outputs": [
    {
     "name": "stdout",
     "output_type": "stream",
     "text": [
      "[[ 1.  0.  0.  0.  0.  0.  0.  0.  0.  0.]\n",
      " [ 0.  2.  0.  0.  0.  0.  0.  0.  0.  0.]\n",
      " [ 0.  0.  3.  0.  0.  0.  0.  0.  0.  0.]\n",
      " [ 0.  0.  0.  4.  0.  0.  0.  0.  0.  0.]\n",
      " [ 0.  0.  0.  0.  5.  0.  0.  0.  0.  0.]\n",
      " [ 0.  0.  0.  0.  0.  6.  0.  0.  0.  0.]\n",
      " [ 0.  0.  0.  0.  0.  0.  7.  0.  0.  0.]\n",
      " [ 0.  0.  0.  0.  0.  0.  0.  8.  0.  0.]\n",
      " [ 0.  0.  0.  0.  0.  0.  0.  0.  9.  0.]\n",
      " [ 0.  0.  0.  0.  0.  0.  0.  0.  0. 10.]]\n",
      "Eigenvalue: [10.  9.  8.  7.  6.]\n",
      "Eigenvector:\n",
      "[[ 9.71445147e-17  5.55111512e-17 -6.93889390e-17  1.04083409e-17\n",
      "  -1.38777878e-17]\n",
      " [ 3.12250226e-17 -5.55111512e-17 -1.87350135e-16 -8.67361738e-18\n",
      "   2.28983499e-16]\n",
      " [ 2.08166817e-17 -4.02455846e-16 -2.35922393e-16  4.51028104e-17\n",
      "  -5.55111512e-17]\n",
      " [ 1.35308431e-16 -2.77555756e-17 -1.04083409e-16  2.60208521e-17\n",
      "  -1.52655666e-16]\n",
      " [-7.37257477e-17  1.59594560e-16 -4.19803081e-16  6.93889390e-18\n",
      "   6.10622664e-16]\n",
      " [-2.02095285e-16 -2.04697370e-16  2.91433544e-16  2.48932819e-16\n",
      "  -1.00000000e+00]\n",
      " [-7.73036149e-17 -6.93889390e-18 -1.41379963e-16  1.00000000e+00\n",
      "   2.25514052e-16]\n",
      " [ 2.53269627e-16 -2.01227923e-16  1.00000000e+00  1.33573708e-16\n",
      "   1.21430643e-16]\n",
      " [-7.11236625e-17 -1.00000000e+00 -3.67761377e-16  1.21430643e-17\n",
      "   1.04083409e-16]\n",
      " [-1.00000000e+00 -3.55618313e-17  1.97758476e-16 -4.93311988e-17\n",
      "   6.24500451e-17]]\n"
     ]
    }
   ],
   "source": [
    "import numpy as np\n",
    "from pylanczos import PyLanczos\n",
    "\n",
    "\n",
    "def exec_sample():\n",
    "    matrix = np.diag([float(i) for i in range(1, 11)])\n",
    "    print(matrix)\n",
    "\n",
    "    engine = PyLanczos(matrix, True, 5)  # Find 2 maximum eigenpairs\n",
    "    eigenvalues, eigenvectors = engine.run()\n",
    "    print(\"Eigenvalue: {}\".format(eigenvalues))\n",
    "    print(\"Eigenvector:\")\n",
    "    print(eigenvectors)\n",
    "\n",
    "\n",
    "if __name__ == \"__main__\":\n",
    "    exec_sample()"
   ]
  },
  {
   "cell_type": "code",
   "execution_count": null,
   "metadata": {},
   "outputs": [],
   "source": []
  }
 ],
 "metadata": {
  "kernelspec": {
   "display_name": "base",
   "language": "python",
   "name": "python3"
  },
  "language_info": {
   "codemirror_mode": {
    "name": "ipython",
    "version": 3
   },
   "file_extension": ".py",
   "mimetype": "text/x-python",
   "name": "python",
   "nbconvert_exporter": "python",
   "pygments_lexer": "ipython3",
   "version": "3.11.9"
  }
 },
 "nbformat": 4,
 "nbformat_minor": 2
}
